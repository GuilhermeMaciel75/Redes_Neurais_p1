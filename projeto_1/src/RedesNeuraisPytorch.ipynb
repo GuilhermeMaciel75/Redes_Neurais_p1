{
 "cells": [
  {
   "cell_type": "code",
   "execution_count": 10,
   "metadata": {},
   "outputs": [],
   "source": [
    "import torch\n",
    "import torch.nn as nn\n",
    "import torch.optim as optim\n",
    "\n",
    "from keras.datasets import mnist\n",
    "\n",
    "from matplotlib import pyplot as plt\n",
    "\n",
    "import mnist_loader\n",
    "import numpy as np\n",
    "\n",
    "from sklearn.metrics import accuracy_score, precision_score, recall_score, confusion_matrix\n",
    "import seaborn as sns"
   ]
  },
  {
   "cell_type": "code",
   "execution_count": 11,
   "metadata": {},
   "outputs": [],
   "source": [
    "class MLP(nn.Module):\n",
    "    def __init__(self, input_size:int, hidden_size:list, output_size:int) -> None:\n",
    "        super(MLP, self).__init__()\n",
    "        self.input_layer = nn.Linear(input_size, hidden_size[0])\n",
    "        self.hidden_layers = []\n",
    "        for i in range(1, len(hidden_size), 1):\n",
    "            self.hidden_layers.append(nn.Linear(hidden_size[i-1], hidden_size[i]))\n",
    "        self.relu = nn.LeakyReLU()\n",
    "        self.output_layer = nn.Linear(hidden_size[len(hidden_size) - 1], output_size)\n",
    "    \n",
    "    def forward(self, x):\n",
    "        x = x.view(x.size(0), -1)\n",
    "        x = self.input_layer(x)\n",
    "        for layer in self.hidden_layers:\n",
    "            x = self.relu(x)\n",
    "            x = layer(x)\n",
    "        x = self.output_layer(x)\n",
    "        return x"
   ]
  },
  {
   "cell_type": "code",
   "execution_count": 12,
   "metadata": {},
   "outputs": [],
   "source": [
    "model = MLP(input_size=784, hidden_size=[200, 50], output_size=10)\n",
    "\n",
    "(train_data, train_labels), (test_data, test_labels) = mnist.load_data()\n",
    "val_size = 10000\n",
    "\n",
    "train_data = torch.tensor(train_data, dtype=torch.float32)\n",
    "train_labels = torch.tensor(train_labels, dtype=torch.int64)\n",
    "\n",
    "val_data = train_data[train_data.shape[0] - val_size : train_data.shape[0]]\n",
    "val_labels = train_labels[train_labels.shape[0] - val_size: train_labels.shape[0]]\n",
    "\n",
    "train_data = train_data[0 : train_data.shape[0] - val_size]\n",
    "train_labels = train_labels[0 : train_labels.shape[0] - val_size]\n",
    "\n",
    "test_data = torch.tensor(test_data, dtype=torch.float32)\n",
    "test_labels = torch.tensor(test_labels, dtype=torch.int64)\n",
    "\n",
    "criterion = nn.CrossEntropyLoss()\n",
    "optimizer = optim.SGD(model.parameters(), lr = 0.001)\n",
    "epochs = 15"
   ]
  },
  {
   "cell_type": "code",
   "execution_count": 13,
   "metadata": {},
   "outputs": [
    {
     "data": {
      "text/plain": [
       "torch.Size([10000])"
      ]
     },
     "execution_count": 13,
     "metadata": {},
     "output_type": "execute_result"
    }
   ],
   "source": [
    "val_labels.shape"
   ]
  },
  {
   "cell_type": "code",
   "execution_count": 14,
   "metadata": {},
   "outputs": [],
   "source": [
    "def calculate_accuracy(model, data, labels):\n",
    "    with torch.no_grad():\n",
    "        outputs = model(data)\n",
    "        _, predicted = torch.max(outputs, 1)\n",
    "        correct = (predicted == labels).sum().item()\n",
    "        accuracy = correct / labels.size(0)\n",
    "    return accuracy"
   ]
  },
  {
   "cell_type": "code",
   "execution_count": 15,
   "metadata": {},
   "outputs": [
    {
     "name": "stdout",
     "output_type": "stream",
     "text": [
      "Epoch [1/15], Loss: 0.0134\n",
      "Acuracia: 0.9531\n",
      "Epoch [2/15], Loss: 0.0089\n",
      "Acuracia: 0.9602\n",
      "Epoch [3/15], Loss: 0.0159\n",
      "Acuracia: 0.9637\n",
      "Epoch [4/15], Loss: 0.0221\n",
      "Acuracia: 0.9659\n",
      "Epoch [5/15], Loss: 0.1187\n",
      "Acuracia: 0.9688\n",
      "Epoch [6/15], Loss: 0.0694\n",
      "Acuracia: 0.9702\n",
      "Epoch [7/15], Loss: 0.0065\n",
      "Acuracia: 0.9707\n",
      "Epoch [8/15], Loss: 0.0019\n",
      "Acuracia: 0.9696\n",
      "Epoch [9/15], Loss: 0.0010\n",
      "Acuracia: 0.9711\n",
      "Epoch [10/15], Loss: 0.0006\n",
      "Acuracia: 0.9714\n",
      "Epoch [11/15], Loss: 0.0004\n",
      "Acuracia: 0.9721\n",
      "Epoch [12/15], Loss: 0.0005\n",
      "Acuracia: 0.9729\n",
      "Epoch [13/15], Loss: 0.0006\n",
      "Acuracia: 0.9731\n",
      "Epoch [14/15], Loss: 0.0004\n",
      "Acuracia: 0.9738\n",
      "Epoch [15/15], Loss: 0.0004\n",
      "Acuracia: 0.9743\n"
     ]
    }
   ],
   "source": [
    "batch_size = 10\n",
    "for epoch in range(epochs):\n",
    "    for i in range(int(train_data.shape[0]/batch_size)):\n",
    "        data = train_data[i*batch_size:(i+1)*batch_size]\n",
    "        labels = train_labels[i*batch_size:(i+1)*batch_size]\n",
    "        out = model(data)\n",
    "        loss = criterion(out, labels)\n",
    "\n",
    "        optimizer.zero_grad()\n",
    "        loss.backward()\n",
    "\n",
    "        optimizer.step()\n",
    "\n",
    "    print('Epoch [{}/{}], Loss: {:.4f}'.format(epoch+1, epochs, loss.item()))\n",
    "    print(f\"Acuracia: {calculate_accuracy(model, val_data, val_labels)}\")"
   ]
  },
  {
   "cell_type": "code",
   "execution_count": 16,
   "metadata": {},
   "outputs": [
    {
     "data": {
      "text/plain": [
       "0.9756"
      ]
     },
     "execution_count": 16,
     "metadata": {},
     "output_type": "execute_result"
    }
   ],
   "source": [
    "out = model(test_data)\n",
    "calculate_accuracy(model, test_data, test_labels)"
   ]
  },
  {
   "cell_type": "code",
   "execution_count": 17,
   "metadata": {},
   "outputs": [
    {
     "name": "stdout",
     "output_type": "stream",
     "text": [
      "Acuracia: 0.9756\n",
      "Precisao: 0.9756\n",
      "Recall: 0.9756\n"
     ]
    }
   ],
   "source": [
    "y_true = test_labels.detach().numpy()\n",
    "y_pred = out.argmax(axis=1).detach().numpy()\n",
    "\n",
    "print(f\"Acuracia: {accuracy_score(y_true, y_pred)}\")\n",
    "print(f\"Precisao: {precision_score(y_true, y_pred, average='micro')}\")\n",
    "print(f\"Recall: {recall_score(y_true, y_pred, average='micro')}\")\n"
   ]
  },
  {
   "cell_type": "code",
   "execution_count": 18,
   "metadata": {},
   "outputs": [
    {
     "data": {
      "image/png": "[encoded data removed]",
      "text/plain": [
       "<Figure size 800x700 with 1 Axes>"
      ]
     },
     "metadata": {},
     "output_type": "display_data"
    }
   ],
   "source": [
    "# Confusion Matrix\n",
    "cm = confusion_matrix(y_true, y_pred)\n",
    "plt.figure(figsize=(8, 7))\n",
    "\n",
    "# Heatmap\n",
    "sns.heatmap(cm, annot=True, fmt=\"d\", cmap=\"Blues\", cbar=False, xticklabels=range(10), yticklabels=range(10))\n",
    "\n",
    "# Labels\n",
    "plt.xlabel('Predicted Labels')\n",
    "plt.ylabel('True Labels')\n",
    "\n",
    "for i in range(11):\n",
    "    plt.hlines(i, xmin=0, xmax=10, colors='black', linestyles='solid', linewidth=1)\n",
    "    plt.vlines(i, ymin=0, ymax=10, colors='black', linestyles='solid', linewidth=1)\n",
    "\n",
    "plt.show()"
   ]
  }
 ],
 "metadata": {
  "kernelspec": {
   "display_name": ".venv",
   "language": "python",
   "name": "python3"
  },
  "language_info": {
   "codemirror_mode": {
    "name": "ipython",
    "version": 3
   },
   "file_extension": ".py",
   "mimetype": "text/x-python",
   "name": "python",
   "nbconvert_exporter": "python",
   "pygments_lexer": "ipython3",
   "version": "3.12.2"
  }
 },
 "nbformat": 4,
 "nbformat_minor": 2
}
