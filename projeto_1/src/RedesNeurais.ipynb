{
 "cells": [
  {
   "cell_type": "code",
   "execution_count": 54,
   "metadata": {},
   "outputs": [],
   "source": [
    "import mnist_loader\n",
    "import network\n",
    "import time"
   ]
  },
  {
   "cell_type": "code",
   "execution_count": 55,
   "metadata": {},
   "outputs": [],
   "source": [
    "#Carregando o dataSet\n",
    "training_data, validation_data, test_data = mnist_loader.load_data_wrapper()"
   ]
  },
  {
   "cell_type": "markdown",
   "metadata": {},
   "source": [
    "Definindo os parâmetros a serem utilizados"
   ]
  },
  {
   "cell_type": "code",
   "execution_count": 56,
   "metadata": {},
   "outputs": [],
   "source": [
    "NN_params = {\n",
    "    \"hidden_layers\": [30],\n",
    "    \"learning_rate\": 3.0,\n",
    "    \"epochs\": 3,\n",
    "    \"mini_batch_size\": 10,\n",
    "    \"test_data\": test_data,\n",
    "}"
   ]
  },
  {
   "cell_type": "markdown",
   "metadata": {},
   "source": [
    "Criando a rede neural"
   ]
  },
  {
   "cell_type": "code",
   "execution_count": 57,
   "metadata": {},
   "outputs": [],
   "source": [
    "net = network.Network([784]+NN_params[\"hidden_layers\"]+[10])"
   ]
  },
  {
   "cell_type": "markdown",
   "metadata": {},
   "source": [
    "Usando o stochastic gradient descent para realizar o treinamento da rede"
   ]
  },
  {
   "cell_type": "code",
   "execution_count": 58,
   "metadata": {},
   "outputs": [
    {
     "name": "stdout",
     "output_type": "stream",
     "text": [
      "Epoch 0: 9122 / 10000\n",
      "Epoch 1: 9184 / 10000\n",
      "Epoch 2: 9304 / 10000\n"
     ]
    }
   ],
   "source": [
    "start = time.time()\n",
    "net.SGD(\n",
    "    training_data, NN_params[\"epochs\"], NN_params[\"mini_batch_size\"], NN_params[\"learning_rate\"], test_data=NN_params[\"test_data\"]\n",
    ")\n",
    "end = time.time()\n",
    "total_time = end - start"
   ]
  }
 ],
 "metadata": {
  "kernelspec": {
   "display_name": "Python 3",
   "language": "python",
   "name": "python3"
  },
  "language_info": {
   "codemirror_mode": {
    "name": "ipython",
    "version": 3
   },
   "file_extension": ".py",
   "mimetype": "text/x-python",
   "name": "python",
   "nbconvert_exporter": "python",
   "pygments_lexer": "ipython3",
   "version": "3.12.2"
  }
 },
 "nbformat": 4,
 "nbformat_minor": 2
}
