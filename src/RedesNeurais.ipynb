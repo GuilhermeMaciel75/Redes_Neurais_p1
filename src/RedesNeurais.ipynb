{
 "cells": [
  {
   "cell_type": "code",
   "execution_count": 1,
   "metadata": {},
   "outputs": [],
   "source": [
    "import mnist_loader\n",
    "import network"
   ]
  },
  {
   "cell_type": "code",
   "execution_count": 2,
   "metadata": {},
   "outputs": [],
   "source": [
    "#Carregando o dataSet\n",
    "training_data, validation_data, test_data = mnist_loader.load_data_wrapper()"
   ]
  },
  {
   "cell_type": "markdown",
   "metadata": {},
   "source": [
    "Criando a rede neural"
   ]
  },
  {
   "cell_type": "code",
   "execution_count": 3,
   "metadata": {},
   "outputs": [],
   "source": [
    "net = network.Network([784, 30, 10])"
   ]
  },
  {
   "cell_type": "markdown",
   "metadata": {},
   "source": [
    "Usando o stochastic gradient descent para realizar o treinamento da rede"
   ]
  },
  {
   "cell_type": "code",
   "execution_count": 4,
   "metadata": {},
   "outputs": [
    {
     "data": {
      "text/plain": [
       "<zip at 0x7cae15ff8600>"
      ]
     },
     "execution_count": 4,
     "metadata": {},
     "output_type": "execute_result"
    }
   ],
   "source": [
    "test_data"
   ]
  },
  {
   "cell_type": "code",
   "execution_count": 5,
   "metadata": {},
   "outputs": [
    {
     "name": "stdout",
     "output_type": "stream",
     "text": [
      "Epoch 0: 7357 / 10000\n",
      "Epoch 1: 8294 / 10000\n",
      "Epoch 2: 8378 / 10000\n",
      "Epoch 3: 8405 / 10000\n",
      "Epoch 4: 8450 / 10000\n",
      "Epoch 5: 8472 / 10000\n",
      "Epoch 6: 8487 / 10000\n",
      "Epoch 7: 8490 / 10000\n",
      "Epoch 8: 8493 / 10000\n",
      "Epoch 9: 8498 / 10000\n",
      "Epoch 10: 8507 / 10000\n",
      "Epoch 11: 8494 / 10000\n",
      "Epoch 12: 8529 / 10000\n",
      "Epoch 13: 8540 / 10000\n",
      "Epoch 14: 8538 / 10000\n",
      "Epoch 15: 8546 / 10000\n",
      "Epoch 16: 8530 / 10000\n",
      "Epoch 17: 8552 / 10000\n",
      "Epoch 18: 8549 / 10000\n",
      "Epoch 19: 8558 / 10000\n",
      "Epoch 20: 8547 / 10000\n",
      "Epoch 21: 8566 / 10000\n",
      "Epoch 22: 8482 / 10000\n",
      "Epoch 23: 8546 / 10000\n",
      "Epoch 24: 8514 / 10000\n",
      "Epoch 25: 8536 / 10000\n",
      "Epoch 26: 8541 / 10000\n"
     ]
    }
   ],
   "source": [
    "net.SGD(training_data, 30, 10, 3.0, test_data=test_data)"
   ]
  }
 ],
 "metadata": {
  "kernelspec": {
   "display_name": "Python 3",
   "language": "python",
   "name": "python3"
  },
  "language_info": {
   "codemirror_mode": {
    "name": "ipython",
    "version": 3
   },
   "file_extension": ".py",
   "mimetype": "text/x-python",
   "name": "python",
   "nbconvert_exporter": "python",
   "pygments_lexer": "ipython3",
   "version": "3.10.12"
  }
 },
 "nbformat": 4,
 "nbformat_minor": 2
}
