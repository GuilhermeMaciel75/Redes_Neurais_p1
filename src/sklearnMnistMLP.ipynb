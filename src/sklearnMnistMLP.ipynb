{
 "cells": [
  {
   "cell_type": "markdown",
   "metadata": {},
   "source": [
    "# Importando Bibliotecas"
   ]
  },
  {
   "cell_type": "code",
   "execution_count": 1,
   "metadata": {},
   "outputs": [],
   "source": [
    "import numpy as np\n",
    "import pandas as pd\n",
    "import time\n",
    "import matplotlib.pyplot as plt\n",
    "import seaborn as sns\n",
    "import random\n",
    "import pickle\n",
    "import warnings\n",
    "\n",
    "from sklearn.neural_network import MLPClassifier\n",
    "from sklearn.metrics import accuracy_score, recall_score, precision_score, confusion_matrix, classification_report\n",
    "from sklearn.exceptions import ConvergenceWarning\n",
    "\n",
    "import mnist_loader"
   ]
  },
  {
   "cell_type": "code",
   "execution_count": 2,
   "metadata": {},
   "outputs": [],
   "source": [
    "warnings.filterwarnings(\"ignore\", category=ConvergenceWarning)"
   ]
  },
  {
   "cell_type": "markdown",
   "metadata": {},
   "source": [
    "# Carregando o MNIST dataset"
   ]
  },
  {
   "cell_type": "code",
   "execution_count": 3,
   "metadata": {},
   "outputs": [],
   "source": [
    "# Loading MNIST dataset\n",
    "training_data, validation_data, test_data = mnist_loader.load_data()\n",
    "\n",
    "X_train, Y_train = np.concatenate((training_data[0], validation_data[0])), np.concatenate((training_data[1], validation_data[1]))\n",
    "X_test, Y_test = test_data[0], test_data[1]"
   ]
  },
  {
   "cell_type": "markdown",
   "metadata": {},
   "source": [
    "# Definindo os parâmetros da MLP"
   ]
  },
  {
   "cell_type": "markdown",
   "metadata": {},
   "source": [
    "Os parâmetros testados em busca do melhor desempenho estão descritos abaixo:\n",
    "<br>\n",
    "- Número de camadas: Definido aleatoriamente para cada experimento, de forma que cada MLP testado terá 1 ou mais camadas ocultas, com cada camada sendo adicionada caso o número aleatório retornado pelo random.uniform seja maior do que 0.6\n",
    "- Número de neurônios: Também definido aleatoriamente para cada experimento e camada, sendo um número entre 2 e 100\n",
    "- Taxa de aprendizagem: Número definido de forma aleatória entre 0.001 e 0.1, tendo no máximo 4 dígitos\n",
    "- Função de ativação: Escolhido aleatoriamente, podendo ser 'identity', 'logistic', 'tanh' ou 'relu'\n",
    "- Algoritmo de aprendizagem: Também escolhido aleatoriamente, podendo ser 'adam', 'sgd' ou 'lbfgs'"
   ]
  },
  {
   "cell_type": "code",
   "execution_count": 4,
   "metadata": {},
   "outputs": [],
   "source": [
    "# Definir a quantidade de camadas escondidas\n",
    "def random_hidden_layers():\n",
    "    hidden_layer = [random.randint(2, 100)]\n",
    "    while random.uniform(0.0, 1.0) > 0.4:\n",
    "        hidden_layer.append(random.randint(2, 100))\n",
    "    return hidden_layer\n",
    "\n",
    "def random_params_mlp(verbose=False, num_epochs=1000, tol=0.0001):\n",
    "    return MLPClassifier(\n",
    "        activation=random.choice(['identity', 'logistic', 'tanh', 'relu']),\n",
    "        batch_size=100,\n",
    "        early_stopping=True,\n",
    "        hidden_layer_sizes=random_hidden_layers(),\n",
    "        learning_rate_init=round(random.uniform(0.0001, 0.1), 4),\n",
    "        max_iter=num_epochs,\n",
    "        n_iter_no_change=3,\n",
    "        solver=random.choice(['adam', 'sgd', 'lbfgs']),\n",
    "        tol=tol\n",
    "    )"
   ]
  },
  {
   "cell_type": "markdown",
   "metadata": {},
   "source": [
    "# Fazendo um \"GridSearch\" sobre a camada escondida"
   ]
  },
  {
   "cell_type": "markdown",
   "metadata": {},
   "source": [
    "Foram realizados 25 experimentos, cada um com parâmetros diferentes e escolhidos aleatoriamente usando a biblioteca random, que é nativa do python, com os 3 modelos com maior acurácia total sendo salvos e exibidos ao fim todos os experimentos."
   ]
  },
  {
   "cell_type": "code",
   "execution_count": 5,
   "metadata": {},
   "outputs": [
    {
     "name": "stdout",
     "output_type": "stream",
     "text": [
      "Activation | Solver | LR | Hidden Layers: Accuracy | Total Time\n",
      "relu | sgd | 0.046 | [82, 15, 92, 28, 8]: 0.973 | 21.7s\n",
      "identity | lbfgs | 0.0326 | [47, 68, 80]: 0.9212 | 370.6s\n",
      "logistic | sgd | 0.0821 | [82]: 0.9765 | 25.0s\n",
      "logistic | lbfgs | 0.0064 | [35, 93]: 0.957 | 208.5s\n",
      "relu | lbfgs | 0.0535 | [89, 9]: 0.97 | 122.5s\n",
      "logistic | lbfgs | 0.0998 | [57, 43, 84, 77]: 0.1135 | 10.9s\n",
      "logistic | adam | 0.0239 | [34, 26]: 0.9469 | 7.6s\n",
      "identity | lbfgs | 0.0336 | [86, 13]: 0.9213 | 369.2s\n",
      "identity | lbfgs | 0.0031 | [5, 42, 89, 93, 41, 97, 44]: 0.9025 | 539.9s\n",
      "identity | sgd | 0.0676 | [51]: 0.9189 | 9.6s\n",
      "identity | sgd | 0.0447 | [16, 64, 31, 53]: 0.91 | 6.2s\n",
      "identity | adam | 0.0235 | [45]: 0.8959 | 13.8s\n",
      "logistic | adam | 0.0118 | [21]: 0.9482 | 5.2s\n",
      "tanh | sgd | 0.0371 | [98]: 0.9779 | 36.6s\n",
      "relu | adam | 0.0261 | [37]: 0.9465 | 12.1s\n",
      "identity | lbfgs | 0.0961 | [89, 96]: 0.922 | 635.0s\n",
      "identity | sgd | 0.0399 | [90]: 0.9226 | 9.7s\n",
      "identity | adam | 0.0854 | [82]: 0.8952 | 27.6s\n",
      "identity | sgd | 0.042 | [92]: 0.9181 | 9.9s\n",
      "tanh | sgd | 0.0649 | [58]: 0.9715 | 17.9s\n",
      "logistic | adam | 0.029 | [70]: 0.9589 | 24.3s\n",
      "logistic | lbfgs | 0.0872 | [63]: 0.9686 | 97.5s\n",
      "tanh | lbfgs | 0.0542 | [28]: 0.9492 | 66.0s\n",
      "relu | adam | 0.0663 | [97, 66, 17, 34, 53, 28]: 0.1135 | 28.3s\n",
      "tanh | sgd | 0.0357 | [92, 49]: 0.9772 | 25.7s\n",
      "\n",
      "Top 3 Models:\n",
      "Accuracy: 0.9779, Params: [98]\n",
      "Accuracy: 0.9772, Params: [92, 49]\n",
      "Accuracy: 0.9765, Params: [82]\n"
     ]
    }
   ],
   "source": [
    "trained_models = []\n",
    "\n",
    "print(\"Activation | Solver | LR | Hidden Layers: Accuracy | Total Time\")\n",
    "for _ in range(25):\n",
    "    mlp = random_params_mlp()\n",
    "\n",
    "    start = time.time()\n",
    "    mlp.fit(X_train, Y_train)\n",
    "    end = time.time()\n",
    "    total_time = round(end - start, 1)\n",
    "\n",
    "    mlp_predictions = mlp.predict(X_test)\n",
    "    accuracy = accuracy_score(Y_test, mlp_predictions)\n",
    "    print(f\"{mlp.get_params()['activation']} | {mlp.get_params()['solver']} | {mlp.get_params()['learning_rate_init']} \\\n",
    "| {mlp.get_params()['hidden_layer_sizes']}: {accuracy} | {total_time}s\")\n",
    "\n",
    "    trained_models.append((mlp, accuracy))\n",
    "    trained_models = sorted(trained_models, key=lambda tup: tup[1], reverse=True)[:3]\n",
    "\n",
    "\n",
    "print(\"\\nTop 3 Models:\")\n",
    "for model, acc in trained_models:\n",
    "    print(f\"Accuracy: {acc}, Params: {model.get_params()['hidden_layer_sizes']}\")"
   ]
  },
  {
   "cell_type": "markdown",
   "metadata": {},
   "source": [
    "Acima temos os parâmetros para cada um dos 25 Multilayer Perceptrons testados, junto com sua acurácia total e o tempo que levou para treinar cada um deles. <br>\n",
    "Nota-se que a maioria dos modelos apresentam uma acurácia parecida, com excessão de alguns modelos que possuem 4 camadas ocultas, com o restante dos modelos apresentando uma acurácia total maior do que 0.89."
   ]
  },
  {
   "cell_type": "markdown",
   "metadata": {},
   "source": [
    "# Análise da Performance Sobre o Conjunto de Teste"
   ]
  },
  {
   "cell_type": "markdown",
   "metadata": {},
   "source": [
    "Feita a previsão do modelo com os dados do conjunto de teste, foi calculado a acurácia, precisão e recall total usando ..."
   ]
  },
  {
   "cell_type": "code",
   "execution_count": 6,
   "metadata": {},
   "outputs": [],
   "source": [
    "best_model = trained_models[0][0]"
   ]
  },
  {
   "cell_type": "code",
   "execution_count": 7,
   "metadata": {},
   "outputs": [],
   "source": [
    "mlp_predictions = best_model.predict(X_test)"
   ]
  },
  {
   "cell_type": "markdown",
   "metadata": {},
   "source": [
    "## Calculando Acurácia, Precisão e Recall"
   ]
  },
  {
   "cell_type": "code",
   "execution_count": 8,
   "metadata": {},
   "outputs": [],
   "source": [
    "accuracy = accuracy_score(Y_test, mlp_predictions)\n",
    "precision = precision_score(Y_test, mlp_predictions, average='weighted')\n",
    "recall = recall_score(Y_test, mlp_predictions, average='weighted')\n"
   ]
  },
  {
   "cell_type": "code",
   "execution_count": 9,
   "metadata": {},
   "outputs": [
    {
     "name": "stdout",
     "output_type": "stream",
     "text": [
      "Accuracy: 0.9779\n",
      "Precision: 0.9779068625361591\n",
      "Recall: 0.9779\n"
     ]
    }
   ],
   "source": [
    "print(f\"Accuracy: {accuracy}\")\n",
    "print(f\"Precision: {precision}\") # PRECISA AJUSTAR O PRECISION E O RECALL PARA MULTICLASS\n",
    "print(f\"Recall: {recall}\")"
   ]
  },
  {
   "cell_type": "code",
   "execution_count": null,
   "metadata": {},
   "outputs": [],
   "source": [
    "#Pegando o report de cada classe \n",
    "report = classification_report(Y_test, mlp_predictions, target_names=['0','1','2','3','4','5','6','7','8','9'], output_dict = True)\n",
    "conf_matrix = confusion_matrix(Y_test, mlp_predictions )\n",
    "# Calcular a acurácia para cada classe\n",
    "accuracy_per_class = conf_matrix.diagonal() / conf_matrix.sum(axis=1)\n",
    "for i in range(10):\n",
    "  report[str(i)]['accuracy'] = accuracy_per_class[i]\n",
    "\n",
    "#Printando a tabela\n",
    "df = pd.DataFrame(report)\n",
    "df_inverted = df.transpose()\n",
    "df = df.drop(columns=['accuracy', 'macro avg', 'weighted avg'])\n",
    "df"
   ]
  },
  {
   "cell_type": "markdown",
   "metadata": {},
   "source": [
    "## Plotando a Matrix de Confusão"
   ]
  },
  {
   "cell_type": "markdown",
   "metadata": {},
   "source": [
    "Também foi exibido a matrix de confusão abaixo de forma a termos uma ideia da performance do melhor modelo para cada uma das suas 10 classes."
   ]
  },
  {
   "cell_type": "code",
   "execution_count": 10,
   "metadata": {},
   "outputs": [
    {
     "data": {
      "image/png": "[encoded data removed]",
      "text/plain": [
       "<Figure size 800x700 with 1 Axes>"
      ]
     },
     "metadata": {},
     "output_type": "display_data"
    }
   ],
   "source": [
    "# Confusion Matrix\n",
    "conf_matrix = confusion_matrix(Y_test, mlp_predictions)\n",
    "plt.figure(figsize=(8, 7))\n",
    "\n",
    "# Heatmap\n",
    "sns.heatmap(conf_matrix, annot=True, fmt=\"d\", cmap=\"Blues\", cbar=False, xticklabels=range(10), yticklabels=range(10))\n",
    "\n",
    "# Labels\n",
    "plt.xlabel('Predicted Labels')\n",
    "plt.ylabel('True Labels')\n",
    "\n",
    "for i in range(11):\n",
    "    plt.hlines(i, xmin=0, xmax=10, colors='black', linestyles='solid', linewidth=1)\n",
    "    plt.vlines(i, ymin=0, ymax=10, colors='black', linestyles='solid', linewidth=1)\n",
    "\n",
    "plt.show()"
   ]
  },
  {
   "cell_type": "markdown",
   "metadata": {},
   "source": [
    "Observa-se que o modelo tem uma performance boa em todas as classes, acertando a maioria dos casos de teste, errando principalmente os dígitos 8 e 9, onde mais de 30 instâncias foram classificadas incorretamente, porém com 943 e 974, respectivamente, sendo classificadas corretamente."
   ]
  },
  {
   "cell_type": "markdown",
   "metadata": {},
   "source": [
    "## Média e Desvio Padrão das Métricas"
   ]
  },
  {
   "cell_type": "markdown",
   "metadata": {},
   "source": [
    "Por último, iremos calcular a média e desvio padrão dos 3 melhores conjuntos de parâmetros para ter um melhor entendimento do quão bom é a performance dos modelos treinados com esses parâmetros."
   ]
  },
  {
   "cell_type": "code",
   "execution_count": 11,
   "metadata": {},
   "outputs": [],
   "source": [
    "data = {\n",
    "    'Params': [],\n",
    "    'Mean Accuracy': [],\n",
    "    'Std Accuracy': [],\n",
    "    'Mean Precision': [],\n",
    "    'Std Precision': [],\n",
    "    'Mean Recall': [],\n",
    "    'Std Recall': [],\n",
    "    'Mean Time': [],\n",
    "    'Std Time': [],\n",
    "}"
   ]
  },
  {
   "cell_type": "code",
   "execution_count": 13,
   "metadata": {},
   "outputs": [],
   "source": [
    "# Criando 10 modelos para as 3 melhores combinações de parâmetros\n",
    "for i, model in enumerate(trained_models):\n",
    "    model = model[0]\n",
    "    accuracy = []\n",
    "    precision = []\n",
    "    recall = []\n",
    "    fit_time = []\n",
    "    for _ in range(10):\n",
    "        start = time.time()\n",
    "        model.fit(X_train, Y_train)\n",
    "        end = time.time()\n",
    "        fit_time.append(round(end - start, 1))\n",
    "\n",
    "        model_predictions = model.predict(X_test)\n",
    "        accuracy.append(accuracy_score(Y_test, model_predictions))\n",
    "        precision.append(precision_score(Y_test, model_predictions, average='weighted'))\n",
    "        recall.append(recall_score(Y_test, model_predictions, average='weighted'))\n",
    "\n",
    "    data['Params'].append(f\"C{i}\")\n",
    "    data['Mean Accuracy'].append(np.mean(accuracy))\n",
    "    data['Std Accuracy'].append(np.std(accuracy))\n",
    "    data['Mean Precision'].append(np.mean(precision))\n",
    "    data['Std Precision'].append(np.std(precision))\n",
    "    data['Mean Recall'].append(np.mean(recall))\n",
    "    data['Std Recall'].append(np.std(recall))\n",
    "    data['Mean Time'].append(np.mean(fit_time))\n",
    "    data['Std Time'].append(np.std(fit_time))\n",
    "df = pd.DataFrame(data)"
   ]
  },
  {
   "cell_type": "code",
   "execution_count": 14,
   "metadata": {},
   "outputs": [
    {
     "data": {
      "text/html": [
       "<div>\n",
       "<style scoped>\n",
       "    .dataframe tbody tr th:only-of-type {\n",
       "        vertical-align: middle;\n",
       "    }\n",
       "\n",
       "    .dataframe tbody tr th {\n",
       "        vertical-align: top;\n",
       "    }\n",
       "\n",
       "    .dataframe thead th {\n",
       "        text-align: right;\n",
       "    }\n",
       "</style>\n",
       "<table border=\"1\" class=\"dataframe\">\n",
       "  <thead>\n",
       "    <tr style=\"text-align: right;\">\n",
       "      <th></th>\n",
       "      <th>Params</th>\n",
       "      <th>Mean Accuracy</th>\n",
       "      <th>Std Accuracy</th>\n",
       "      <th>Mean Precision</th>\n",
       "      <th>Std Precision</th>\n",
       "      <th>Mean Recall</th>\n",
       "      <th>Std Recall</th>\n",
       "      <th>Mean Time</th>\n",
       "      <th>Std Time</th>\n",
       "    </tr>\n",
       "  </thead>\n",
       "  <tbody>\n",
       "    <tr>\n",
       "      <th>0</th>\n",
       "      <td>C0</td>\n",
       "      <td>0.97683</td>\n",
       "      <td>0.000901</td>\n",
       "      <td>0.976859</td>\n",
       "      <td>0.000902</td>\n",
       "      <td>0.97683</td>\n",
       "      <td>0.000901</td>\n",
       "      <td>28.81</td>\n",
       "      <td>7.403033</td>\n",
       "    </tr>\n",
       "    <tr>\n",
       "      <th>1</th>\n",
       "      <td>C1</td>\n",
       "      <td>0.97634</td>\n",
       "      <td>0.001495</td>\n",
       "      <td>0.976397</td>\n",
       "      <td>0.001471</td>\n",
       "      <td>0.97634</td>\n",
       "      <td>0.001495</td>\n",
       "      <td>37.78</td>\n",
       "      <td>13.159240</td>\n",
       "    </tr>\n",
       "    <tr>\n",
       "      <th>2</th>\n",
       "      <td>C2</td>\n",
       "      <td>0.97539</td>\n",
       "      <td>0.001078</td>\n",
       "      <td>0.975430</td>\n",
       "      <td>0.001063</td>\n",
       "      <td>0.97539</td>\n",
       "      <td>0.001078</td>\n",
       "      <td>32.52</td>\n",
       "      <td>9.907654</td>\n",
       "    </tr>\n",
       "  </tbody>\n",
       "</table>\n",
       "</div>"
      ],
      "text/plain": [
       "  Params  Mean Accuracy  Std Accuracy  Mean Precision  Std Precision  \\\n",
       "0     C0        0.97683      0.000901        0.976859       0.000902   \n",
       "1     C1        0.97634      0.001495        0.976397       0.001471   \n",
       "2     C2        0.97539      0.001078        0.975430       0.001063   \n",
       "\n",
       "   Mean Recall  Std Recall  Mean Time   Std Time  \n",
       "0      0.97683    0.000901      28.81   7.403033  \n",
       "1      0.97634    0.001495      37.78  13.159240  \n",
       "2      0.97539    0.001078      32.52   9.907654  "
      ]
     },
     "execution_count": 14,
     "metadata": {},
     "output_type": "execute_result"
    }
   ],
   "source": [
    "df"
   ]
  },
  {
   "cell_type": "markdown",
   "metadata": {},
   "source": [
    "# Salvando o melhor modelo treinado"
   ]
  },
  {
   "cell_type": "markdown",
   "metadata": {},
   "source": [
    "Nessa secção está o código para salvar o modelo de melhor performance usando o pickle, outra biblioteca nativa do python, para salvar esse modelo em um arquivo .pkl que pode ser aberto posteriormente com o pickle.load(open(caminho_arquivo_pkl, 'rb'))."
   ]
  },
  {
   "cell_type": "code",
   "execution_count": 15,
   "metadata": {},
   "outputs": [],
   "source": [
    "filename = 'test_model.plk'"
   ]
  },
  {
   "cell_type": "code",
   "execution_count": 16,
   "metadata": {},
   "outputs": [],
   "source": [
    "# Salvando o modelo em um arquivo\n",
    "with open(filename, 'wb') as f:\n",
    "    pickle.dump(best_model, f)"
   ]
  },
  {
   "cell_type": "code",
   "execution_count": 17,
   "metadata": {},
   "outputs": [],
   "source": [
    "# # Carregando um modelo salvo\n",
    "# with open(filename, 'rb') as f:\n",
    "#     best_model = pickle.load(f)"
   ]
  }
 ],
 "metadata": {
  "kernelspec": {
   "display_name": "Python 3",
   "language": "python",
   "name": "python3"
  },
  "language_info": {
   "codemirror_mode": {
    "name": "ipython",
    "version": 3
   },
   "file_extension": ".py",
   "mimetype": "text/x-python",
   "name": "python",
   "nbconvert_exporter": "python",
   "pygments_lexer": "ipython3",
   "version": "3.12.2"
  }
 },
 "nbformat": 4,
 "nbformat_minor": 2
}
