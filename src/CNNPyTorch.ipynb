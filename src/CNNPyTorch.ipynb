{
 "cells": [
  {
   "cell_type": "code",
   "execution_count": 70,
   "metadata": {},
   "outputs": [],
   "source": [
    "import torch, os, datetime, torchvision\n",
    "import torch.nn as nn\n",
    "import torch.optim as optim\n",
    "import torch.nn.functional as F\n",
    "from torchvision import datasets, transforms \n",
    "from torchvision.utils import make_grid\n",
    "import matplotlib.pyplot as plt\n",
    "from PIL import Image\n",
    "import numpy as np"
   ]
  },
  {
   "cell_type": "code",
   "execution_count": 71,
   "metadata": {},
   "outputs": [],
   "source": [
    "seed = 42\n",
    "torch.manual_seed(seed)\n",
    "np.random.seed(seed)"
   ]
  },
  {
   "cell_type": "markdown",
   "metadata": {},
   "source": [
    "## Criando uma instância da classe nn.Module para ser nossa rede"
   ]
  },
  {
   "cell_type": "markdown",
   "metadata": {},
   "source": [
    "Explicando cada parâmetro da camada convolucional:\n",
    "in_channels => quantos canais de cores os inputs possuem (como é preto e branco, tem apenas um canal)\n",
    "out_channels => número de filtros (kernels) que será aplicado à imagem (para extrair caracteristicas latentes)\n",
    "kernel_size => dimensão do filtro (3 é usado comumente pois é o suficiente para pegar detalhes locais mas também percebe padrões maiores)\n",
    "stride => define o passo que o filtro dá, nesse caso, ele se moverá de pixel em pixel (1) (permite analise mais detalhada da imagem)\n",
    "padding =>  adiciona pixels em volta da imagem de entrada para assegurar que o tamanho da saída após a convolução permaneça o mesmo que o da entrada. Para um kernel de 3x3 com stride de 1, um padding de 1 mantém o tamanho da imagem inalterado."
   ]
  },
  {
   "cell_type": "code",
   "execution_count": 72,
   "metadata": {},
   "outputs": [],
   "source": [
    "class SimpleCNN(nn.Module):\n",
    "    def __init__(self):\n",
    "        super(SimpleCNN, self).__init__()\n",
    "        # Definindo a camada convolucional\n",
    "        self.conv1 = nn.Conv2d(in_channels=1, out_channels=32, kernel_size=3, stride=1, padding=1)\n",
    "        # Definindo a camada de pooling\n",
    "        self.pool = nn.MaxPool2d(kernel_size=2, stride=2, padding=0)\n",
    "        # Definindo a camada totalmente conectada (fully connected) de saída\n",
    "        self.fc1 = nn.Linear(32 * 14 * 14, 10)  # Ajuste de acordo com o tamanho da entrada e o número de classes\n",
    "\n",
    "    def forward(self, x):\n",
    "        # Passa pela camada convolucional seguida de uma função de ativação (ReLU)\n",
    "        x = F.relu(self.conv1(x))\n",
    "        # Passa pela camada de pooling\n",
    "        x = self.pool(x)\n",
    "        # Achata o tensor para passar pela camada totalmente conectada\n",
    "        x = x.view(-1, 32 * 14 * 14)\n",
    "        # Passa pela camada totalmente conectada (sem ativação, pois será usada na loss function)\n",
    "        x = self.fc1(x)\n",
    "        return x"
   ]
  },
  {
   "cell_type": "code",
   "execution_count": 73,
   "metadata": {},
   "outputs": [],
   "source": [
    "batch_size = 32\n",
    "\n",
    "# Transformações para normalizar o dataset\n",
    "transform = transforms.Compose([\n",
    "    transforms.ToTensor(),\n",
    "    transforms.Normalize((0.5,), (0.5,))\n",
    "])\n",
    "\n",
    "# Carregando o dataset MNIST\n",
    "trainset = datasets.MNIST(root='./data', train=True, download=True, transform=transform)\n",
    "testset = datasets.MNIST(root='./data', train=False, download=True, transform=transform)\n",
    "\n",
    "# DataLoader para o dataset de treinamento e teste\n",
    "trainloader = torch.utils.data.DataLoader(trainset, batch_size=batch_size, shuffle=True)\n",
    "testloader = torch.utils.data.DataLoader(testset, batch_size=batch_size, shuffle=False)"
   ]
  },
  {
   "cell_type": "markdown",
   "metadata": {},
   "source": [
    "Conhecendo os dados"
   ]
  },
  {
   "cell_type": "code",
   "execution_count": 74,
   "metadata": {},
   "outputs": [
    {
     "name": "stderr",
     "output_type": "stream",
     "text": [
      "Clipping input data to the valid range for imshow with RGB data ([0..1] for floats or [0..255] for integers).\n"
     ]
    },
    {
     "data": {
      "image/png": "[encoded data removed]",
      "text/plain": [
       "<Figure size 1200x1200 with 1 Axes>"
      ]
     },
     "metadata": {},
     "output_type": "display_data"
    }
   ],
   "source": [
    "def show_batch(dl):\n",
    "    for images, labels in dl:\n",
    "        fig, ax = plt.subplots(figsize=(12, 12))\n",
    "        ax.set_xticks([]); ax.set_yticks([])\n",
    "        ax.imshow(make_grid(images[:64], nrow=8).permute(1, 2, 0))\n",
    "        break\n",
    "show_batch(trainloader)"
   ]
  },
  {
   "cell_type": "markdown",
   "metadata": {},
   "source": [
    "## Instanciando o modelo e criando os parametros"
   ]
  },
  {
   "cell_type": "code",
   "execution_count": 75,
   "metadata": {},
   "outputs": [],
   "source": [
    "model = SimpleCNN()\n",
    "learning_rate = 0.001\n",
    "epochs = 10\n",
    "\n",
    "# Definindo um critério de perda (loss function) e um otimizador\n",
    "criterion = nn.CrossEntropyLoss()\n",
    "optimizer = optim.SGD(model.parameters(), lr=learning_rate, momentum=0.9)"
   ]
  },
  {
   "cell_type": "code",
   "execution_count": 76,
   "metadata": {},
   "outputs": [],
   "source": [
    "## Função de treinamento e teste do modelo"
   ]
  },
  {
   "cell_type": "code",
   "execution_count": 77,
   "metadata": {},
   "outputs": [],
   "source": [
    "def train_model(model, trainloader, criterion, optimizer, epochs):\n",
    "    model.train()\n",
    "    for epoch in range(epochs):\n",
    "        running_loss = 0.0\n",
    "        for inputs, labels in trainloader:\n",
    "            optimizer.zero_grad()  # Zera os gradientes\n",
    "            outputs = model(inputs)  # Passa os inputs pela rede\n",
    "            loss = criterion(outputs, labels)  # Calcula a perda\n",
    "            loss.backward()  # Propaga os gradientes\n",
    "            optimizer.step()  # Atualiza os pesos\n",
    "\n",
    "            running_loss += loss.item()\n",
    "\n",
    "        print(f'Epoch {epoch + 1}, Loss: {running_loss / len(trainloader)}')\n",
    "\n",
    "def test_model(model, testloader, criterion):\n",
    "    model.eval()\n",
    "    correct = 0\n",
    "    total = 0\n",
    "    test_loss = 0.0\n",
    "    with torch.no_grad():\n",
    "        for inputs, labels in testloader:\n",
    "            outputs = model(inputs)\n",
    "            loss = criterion(outputs, labels)\n",
    "            test_loss += loss.item()\n",
    "            _, predicted = torch.max(outputs.data, 1)\n",
    "            total += labels.size(0)\n",
    "            correct += (predicted == labels).sum().item()\n",
    "\n",
    "    print(f'Accuracy: {100 * correct / total}%, Test Loss: {test_loss / len(testloader)}')"
   ]
  },
  {
   "cell_type": "markdown",
   "metadata": {},
   "source": [
    "## Treinando o modelo"
   ]
  },
  {
   "cell_type": "code",
   "execution_count": 78,
   "metadata": {},
   "outputs": [
    {
     "name": "stdout",
     "output_type": "stream",
     "text": [
      "Epoch 1, Loss: 0.37997176980773606\n",
      "Epoch 2, Loss: 0.17134785991311074\n",
      "Epoch 3, Loss: 0.12241915351897478\n",
      "Epoch 4, Loss: 0.09888717361390591\n",
      "Epoch 5, Loss: 0.08440851065516472\n",
      "Epoch 6, Loss: 0.0752315792268763\n",
      "Epoch 7, Loss: 0.06835113021644454\n",
      "Epoch 8, Loss: 0.0627850466971596\n",
      "Epoch 9, Loss: 0.05888392187859863\n",
      "Epoch 10, Loss: 0.05577112354027728\n"
     ]
    }
   ],
   "source": [
    "train_model(model, trainloader, criterion, optimizer, epochs)"
   ]
  },
  {
   "cell_type": "markdown",
   "metadata": {},
   "source": [
    "Salvando o modelo após o treinamento"
   ]
  },
  {
   "cell_type": "code",
   "execution_count": 79,
   "metadata": {},
   "outputs": [],
   "source": [
    "if not os.path.exists('modelos_treinados'):\n",
    "    os.makedirs('modelos_treinados')\n",
    "\n",
    "current_datetime = datetime.datetime.now().strftime('%Y%m%d_%H%M%S')\n",
    "path_model_trained = os.path.join('modelos_treinados', f'model_{current_datetime}.pth')\n",
    "\n",
    "torch.save(model.state_dict(), path_model_trained)"
   ]
  },
  {
   "cell_type": "markdown",
   "metadata": {},
   "source": [
    "## Testando o modelo"
   ]
  },
  {
   "cell_type": "code",
   "execution_count": 80,
   "metadata": {},
   "outputs": [
    {
     "name": "stdout",
     "output_type": "stream",
     "text": [
      "Accuracy: 98.2%, Test Loss: 0.059700112047861104\n"
     ]
    }
   ],
   "source": [
    "test_model(model, testloader, criterion)"
   ]
  },
  {
   "cell_type": "markdown",
   "metadata": {},
   "source": [
    "## Prevendo uma imagem nova"
   ]
  },
  {
   "cell_type": "code",
   "execution_count": 81,
   "metadata": {},
   "outputs": [],
   "source": [
    "def predict_image(image_path, model):\n",
    "    # Converte para escala de cinza\n",
    "    image = Image.open(image_path).convert('L')  \n",
    "    transform = transforms.Compose([\n",
    "        transforms.Resize((28, 28)),\n",
    "        transforms.ToTensor()\n",
    "    ])\n",
    "    # Adiciona dimensão de batch (1 imagem)\n",
    "    image = transform(image).unsqueeze(0) \n",
    "\n",
    "    # Passando a imagem pela rede\n",
    "    output = model(image)\n",
    "\n",
    "    # Interpretando a saída\n",
    "    #probabilities = F.softmax(output, dim=1)\n",
    "    #predicted_class = torch.argmax(probabilities, dim=1).item()  # Obtém a classe com maior probabilidade\n",
    "    #print('Predicted Class:', predicted_class)\n",
    "    _, predicted_class = torch.max(output, 1)\n",
    "    print(\"Classe prevista:\", predicted_class.item())\n"
   ]
  },
  {
   "cell_type": "markdown",
   "metadata": {},
   "source": [
    "## Carregando modelo treinado"
   ]
  },
  {
   "cell_type": "code",
   "execution_count": 82,
   "metadata": {},
   "outputs": [
    {
     "data": {
      "text/plain": [
       "SimpleCNN(\n",
       "  (conv1): Conv2d(1, 32, kernel_size=(3, 3), stride=(1, 1), padding=(1, 1))\n",
       "  (pool): MaxPool2d(kernel_size=2, stride=2, padding=0, dilation=1, ceil_mode=False)\n",
       "  (fc1): Linear(in_features=6272, out_features=10, bias=True)\n",
       ")"
      ]
     },
     "execution_count": 82,
     "metadata": {},
     "output_type": "execute_result"
    }
   ],
   "source": [
    "# path_model_trained = ''\n",
    "\n",
    "model_trained = SimpleCNN()\n",
    "model_trained.load_state_dict(torch.load(path_model_trained))\n",
    "model_trained.eval()"
   ]
  },
  {
   "cell_type": "code",
   "execution_count": 83,
   "metadata": {},
   "outputs": [
    {
     "name": "stdout",
     "output_type": "stream",
     "text": [
      "Classe prevista: 8\n"
     ]
    }
   ],
   "source": [
    "image_path = 'imagens_teste\\imagem_teste_4.png'\n",
    "\n",
    "predict_image(image_path, model_trained)"
   ]
  }
 ],
 "metadata": {
  "kernelspec": {
   "display_name": "Python 3",
   "language": "python",
   "name": "python3"
  },
  "language_info": {
   "codemirror_mode": {
    "name": "ipython",
    "version": 3
   },
   "file_extension": ".py",
   "mimetype": "text/x-python",
   "name": "python",
   "nbconvert_exporter": "python",
   "pygments_lexer": "ipython3",
   "version": "3.7.9"
  }
 },
 "nbformat": 4,
 "nbformat_minor": 2
}
