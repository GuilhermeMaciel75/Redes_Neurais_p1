{
 "cells": [
  {
   "cell_type": "code",
   "execution_count": 1,
   "metadata": {},
   "outputs": [],
   "source": [
    "import mnist_loader\n",
    "import network2\n",
    "import time"
   ]
  },
  {
   "cell_type": "code",
   "execution_count": 2,
   "metadata": {},
   "outputs": [],
   "source": [
    "# Carregando o dataSet\n",
    "training_data, validation_data, test_data = mnist_loader.load_data_wrapper()"
   ]
  },
  {
   "cell_type": "markdown",
   "metadata": {},
   "source": [
    "Definindo os parâmetros a serem utilizados"
   ]
  },
  {
   "cell_type": "code",
   "execution_count": 3,
   "metadata": {},
   "outputs": [],
   "source": [
    "NN_params = {\n",
    "    \"cost_function\": \"cross_entropy\", # \"cross_entropy\" / \"quadratic\"\n",
    "    \"hidden_layers\": [30],\n",
    "    \"learning_rate\": 3.0,\n",
    "    \"epochs\": 3,\n",
    "    \"mini_batch_size\": 10,\n",
    "    \"val_data\": validation_data,\n",
    "    \"lmbda\": 1000.0,\n",
    "    \"eval_cost\": False,\n",
    "    \"eval_accuracy\": True,\n",
    "    \"train_cost\": False,\n",
    "    \"train_accuracy\": False,\n",
    "    \"save_name\": \"model_test\",\n",
    "}"
   ]
  },
  {
   "cell_type": "markdown",
   "metadata": {},
   "source": [
    "Criando a rede neural"
   ]
  },
  {
   "cell_type": "code",
   "execution_count": 4,
   "metadata": {},
   "outputs": [],
   "source": [
    "net = network2.Network([784]+NN_params[\"hidden_layers\"]+[10], cost=NN_params[\"cost_function\"])"
   ]
  },
  {
   "cell_type": "markdown",
   "metadata": {},
   "source": [
    "Usando o stochastic gradient descent para realizar o treinamento da rede"
   ]
  },
  {
   "cell_type": "code",
   "execution_count": 5,
   "metadata": {},
   "outputs": [
    {
     "name": "stdout",
     "output_type": "stream",
     "text": [
      "Epoch 0 training complete\n",
      "Accuracy on evaluation data: 3733 / 10000\n",
      "Epoch 1 training complete\n",
      "Accuracy on evaluation data: 3012 / 10000\n",
      "Epoch 2 training complete\n",
      "Accuracy on evaluation data: 3641 / 10000\n"
     ]
    }
   ],
   "source": [
    "start = time.time()\n",
    "net.SGD(\n",
    "    training_data, NN_params[\"epochs\"], NN_params[\"mini_batch_size\"], NN_params[\"learning_rate\"], lmbda=NN_params[\"lmbda\"],\n",
    "    evaluation_data=NN_params[\"val_data\"], monitor_evaluation_cost=NN_params[\"eval_cost\"],\n",
    "    monitor_evaluation_accuracy=NN_params[\"eval_accuracy\"], monitor_training_cost=NN_params[\"train_cost\"],\n",
    "    monitor_training_accuracy=NN_params[\"train_accuracy\"]\n",
    ")\n",
    "end = time.time()\n",
    "total_time = end - start"
   ]
  },
  {
   "cell_type": "code",
   "execution_count": 6,
   "metadata": {},
   "outputs": [
    {
     "data": {
      "text/plain": [
       "3625"
      ]
     },
     "execution_count": 6,
     "metadata": {},
     "output_type": "execute_result"
    }
   ],
   "source": [
    "net.accuracy(test_data)"
   ]
  },
  {
   "cell_type": "markdown",
   "metadata": {},
   "source": [
    "Salvando o modelo treinado"
   ]
  },
  {
   "cell_type": "code",
   "execution_count": 14,
   "metadata": {},
   "outputs": [],
   "source": [
    "net.save(NN_params[\"save_name\"])"
   ]
  }
 ],
 "metadata": {
  "kernelspec": {
   "display_name": "Python 3",
   "language": "python",
   "name": "python3"
  },
  "language_info": {
   "codemirror_mode": {
    "name": "ipython",
    "version": 3
   },
   "file_extension": ".py",
   "mimetype": "text/x-python",
   "name": "python",
   "nbconvert_exporter": "python",
   "pygments_lexer": "ipython3",
   "version": "3.12.2"
  }
 },
 "nbformat": 4,
 "nbformat_minor": 2
}
